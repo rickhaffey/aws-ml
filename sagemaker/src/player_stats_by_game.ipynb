{
 "cells": [
  {
   "cell_type": "markdown",
   "metadata": {},
   "source": [
    "# NBA Player Stats by Game"
   ]
  },
  {
   "cell_type": "markdown",
   "metadata": {
    "collapsed": true
   },
   "source": [
    "* Start with a selected start and end date\n",
    "* Scrape https://basketball.realgm.com to pull all player level game stats during that period\n",
    "* Organize results into a pandas dataframe\n",
    "\n",
    "(Patterned after scraping code found here: https://github.com/jacobbaruch/NBA_data_scraping_and_analysis)"
   ]
  },
  {
   "cell_type": "code",
   "execution_count": 1,
   "metadata": {
    "collapsed": true
   },
   "outputs": [],
   "source": [
    "import requests\n",
    "from bs4 import BeautifulSoup\n",
    "import pandas as pd\n",
    "import ast"
   ]
  },
  {
   "cell_type": "code",
   "execution_count": 2,
   "metadata": {
    "collapsed": true
   },
   "outputs": [],
   "source": [
    "# specify the date range we're interested in\n",
    "start_date = \"2018-11-06\"\n",
    "end_date = \"2018-11-07\""
   ]
  },
  {
   "cell_type": "code",
   "execution_count": 3,
   "metadata": {
    "collapsed": true
   },
   "outputs": [],
   "source": [
    "def convert_date(date_list):\n",
    "    '''Convert the date representation provided by the api (`[month,day,year]`) to a string in `YYYY-MM-DD` format.'''\n",
    "    # inbound values: [11, 6, 2018]  ([month, day, year])\n",
    "    # outbound values: \"2018-11-06\"\n",
    "    year = date_list[2]\n",
    "    month = date_list[0]\n",
    "    day = date_list[1]\n",
    "    \n",
    "    return \"{:0>4}-{:0>2}-{:0>2}\".format(year, month, day)"
   ]
  },
  {
   "cell_type": "code",
   "execution_count": 4,
   "metadata": {},
   "outputs": [],
   "source": [
    "# retrieve the available dates for boxscores\n",
    "showdates_url = 'https://basketball.realgm.com/ajax/nba_scoreboard.phtml?action=showdates'\n",
    "dates_resp = requests.get(showdates_url)\n",
    "dates_all = ast.literal_eval(dates_resp.text)\n",
    "\n",
    "# reformat from [[month, day, year]] to [(year, month, day)]\n",
    "dates_all = [convert_date(d) for d in dates_all]\n",
    "\n",
    "# filter to the dates of interest\n",
    "dates = list(filter(lambda d: d >= start_date and d <= end_date, dates_all))"
   ]
  },
  {
   "cell_type": "code",
   "execution_count": 5,
   "metadata": {},
   "outputs": [],
   "source": [
    "# for each date of interest, get a list of game links\n",
    "links = []\n",
    "for date in dates:\n",
    "    # load e.g.: \"https://basketball.realgm.com/nba/scores/{}/All\".format(\"2018-11-01\")\n",
    "    page_resp = requests.get(\"https://basketball.realgm.com/nba/scores/{}/All\".format(date))\n",
    "    soup = BeautifulSoup(page_resp.text, 'html.parser')\n",
    "\n",
    "    # within that page, find tables with class=\"game played\"\n",
    "    # within those tables, find the a href with text of \"Box Score\"\n",
    "    links.extend([(link.get('href'), date) for link in soup.select('table.game.played a') if link.text == 'Box Score'])"
   ]
  },
  {
   "cell_type": "code",
   "execution_count": 6,
   "metadata": {
    "collapsed": true
   },
   "outputs": [],
   "source": [
    "# some stats are in a hyphen separated {made}-{attempted} format\n",
    "# e.g. FGM-A (field goals made-attempted)\n",
    "# parse out to discrete values to allow detail calcs\n",
    "def parse_made_attempted(val):\n",
    "    a, b = val.split('-')\n",
    "    return (int(a), int(b))"
   ]
  },
  {
   "cell_type": "code",
   "execution_count": 7,
   "metadata": {
    "collapsed": true
   },
   "outputs": [],
   "source": [
    "def parse_minutes_played(val):\n",
    "    '''Convert the text representation, e.g. \"40:44\" to a float value, e.g. \"40.73333\".'''\n",
    "    minutes, seconds = [int(x) for x in val.split(':')]\n",
    "    return minutes + seconds / 60"
   ]
  },
  {
   "cell_type": "code",
   "execution_count": 8,
   "metadata": {
    "collapsed": true
   },
   "outputs": [],
   "source": [
    "def parse_team_stats(team_name, date, stat_rows):    \n",
    "    players = []\n",
    "    for row in stat_rows:\n",
    "        cols = row.find_all('td')\n",
    "\n",
    "        player = {}\n",
    "        player['date'] = date\n",
    "        player['team'] = team_name        \n",
    "        player['name'] = cols[1].string\n",
    "        player['number'] = int(cols[0].string)        \n",
    "        player['status'] = cols[2].string\n",
    "        player['position'] = cols[3].string\n",
    "        player['minutes'] = parse_minutes_played(cols[4].string)\n",
    "\n",
    "        fgm, fga = parse_made_attempted(cols[5].string)\n",
    "        player['FGA'] = fga  # field goals attempted\n",
    "        player['FGM'] = fgm  # field goals made\n",
    "        \n",
    "        threePtMd, threePtAtt = parse_made_attempted(cols[6].string)\n",
    "        player['3FGA'] = threePtAtt # three-point field goals attempted\n",
    "        player['3FGM'] = threePtMd # three-point field goals made\n",
    "        \n",
    "        ftm, fta = parse_made_attempted(cols[7].string)    \n",
    "        player['FTA'] = fta  # free throws attempted\n",
    "        player['FTM'] = ftm  # free throws made\n",
    "        \n",
    "        player['FIC'] = float(cols[8].string)  # floor impact counter\n",
    "        player['OREB'] = int(float(cols[9].string))  # offensive rebounds - not sure why this is provided as a float, but convert to int\n",
    "        player['DREB'] = int(cols[10].string)  # defensive rebounds\n",
    "        player['REB'] = int(cols[11].string)  # total rebounds\n",
    "        player['AST'] = int(cols[12].string)  # assists\n",
    "        player['PF'] = int(cols[13].string)  # personal fouls\n",
    "        player['STL'] = int(cols[14].string)  # steals\n",
    "        player['BLK'] = int(cols[15].string)  # blocks\n",
    "        player['TO'] = int(cols[16].string)  # turnovers\n",
    "        player['PTS'] = int(cols[17].string)  # points\n",
    "\n",
    "        players.append(player)\n",
    "        \n",
    "    return players"
   ]
  },
  {
   "cell_type": "code",
   "execution_count": 9,
   "metadata": {},
   "outputs": [
    {
     "name": "stdout",
     "output_type": "stream",
     "text": [
      "retrieving stats for https://basketball.realgm.com/nba/boxscore/2018-11-06/Atlanta-at-Charlotte/308952\n",
      "retrieving stats for https://basketball.realgm.com/nba/boxscore/2018-11-06/Washington-at-Dallas/308953\n",
      "retrieving stats for https://basketball.realgm.com/nba/boxscore/2018-11-06/Brooklyn-at-Phoenix/308954\n",
      "retrieving stats for https://basketball.realgm.com/nba/boxscore/2018-11-06/Milwaukee-at-Portland/308955\n"
     ]
    }
   ],
   "source": [
    "# follow link to box score page\n",
    "#https://basketball.realgm.com/nba/boxscore/2018-11-01/LA-Clippers-at-Philadelphia/308916\n",
    "stats = []\n",
    "for (link, date) in links:\n",
    "    url = 'https://basketball.realgm.com' + link\n",
    "    print('retrieving stats for {}'.format(url))\n",
    "    \n",
    "    page_resp = requests.get(url)\n",
    "    soup = BeautifulSoup(page_resp.text, 'html.parser')\n",
    "\n",
    "    # pull all h2 tags to get team names\n",
    "    headers = soup.find_all('h2')    \n",
    "    tables = soup.find_all('table')\n",
    "    \n",
    "    teamA_players = parse_team_stats(headers[1].text, date, tables[3].find('tbody').find_all('tr'))\n",
    "    teamB_players = parse_team_stats(headers[2].text, date, tables[4].find('tbody').find_all('tr'))\n",
    "    \n",
    "    stats.extend(teamA_players)\n",
    "    stats.extend(teamB_players)    "
   ]
  },
  {
   "cell_type": "code",
   "execution_count": 10,
   "metadata": {},
   "outputs": [],
   "source": [
    "# control the column order in the generated dataframe\n",
    "columns = ['date', 'team', 'name', 'number', 'status',\n",
    "    'position', 'minutes', 'FGA', 'FGM', '3FGA', '3FGM',\n",
    "    'FTA', 'FTM', 'FIC', 'OREB', 'DREB', 'REB',\n",
    "    'AST', 'PF', 'STL', 'BLK', 'TO', 'PTS']\n",
    "\n",
    "df = pd.DataFrame(stats)\n",
    "df = df.loc[:, columns]"
   ]
  },
  {
   "cell_type": "code",
   "execution_count": 11,
   "metadata": {},
   "outputs": [
    {
     "data": {
      "text/html": [
       "<div>\n",
       "<style scoped>\n",
       "    .dataframe tbody tr th:only-of-type {\n",
       "        vertical-align: middle;\n",
       "    }\n",
       "\n",
       "    .dataframe tbody tr th {\n",
       "        vertical-align: top;\n",
       "    }\n",
       "\n",
       "    .dataframe thead th {\n",
       "        text-align: right;\n",
       "    }\n",
       "</style>\n",
       "<table border=\"1\" class=\"dataframe\">\n",
       "  <thead>\n",
       "    <tr style=\"text-align: right;\">\n",
       "      <th></th>\n",
       "      <th>date</th>\n",
       "      <th>team</th>\n",
       "      <th>name</th>\n",
       "      <th>number</th>\n",
       "      <th>status</th>\n",
       "      <th>position</th>\n",
       "      <th>minutes</th>\n",
       "      <th>FGA</th>\n",
       "      <th>FGM</th>\n",
       "      <th>3FGA</th>\n",
       "      <th>...</th>\n",
       "      <th>FIC</th>\n",
       "      <th>OREB</th>\n",
       "      <th>DREB</th>\n",
       "      <th>REB</th>\n",
       "      <th>AST</th>\n",
       "      <th>PF</th>\n",
       "      <th>STL</th>\n",
       "      <th>BLK</th>\n",
       "      <th>TO</th>\n",
       "      <th>PTS</th>\n",
       "    </tr>\n",
       "  </thead>\n",
       "  <tbody>\n",
       "    <tr>\n",
       "      <th>0</th>\n",
       "      <td>2018-11-06</td>\n",
       "      <td>Atlanta Hawks</td>\n",
       "      <td>Kent Bazemore</td>\n",
       "      <td>24</td>\n",
       "      <td>Starter</td>\n",
       "      <td>SG</td>\n",
       "      <td>28.066667</td>\n",
       "      <td>12</td>\n",
       "      <td>6</td>\n",
       "      <td>7</td>\n",
       "      <td>...</td>\n",
       "      <td>9.9</td>\n",
       "      <td>0</td>\n",
       "      <td>2</td>\n",
       "      <td>2</td>\n",
       "      <td>1</td>\n",
       "      <td>3</td>\n",
       "      <td>4</td>\n",
       "      <td>2</td>\n",
       "      <td>3</td>\n",
       "      <td>16</td>\n",
       "    </tr>\n",
       "    <tr>\n",
       "      <th>1</th>\n",
       "      <td>2018-11-06</td>\n",
       "      <td>Atlanta Hawks</td>\n",
       "      <td>Trae Young</td>\n",
       "      <td>11</td>\n",
       "      <td>Starter</td>\n",
       "      <td>PG</td>\n",
       "      <td>29.816667</td>\n",
       "      <td>19</td>\n",
       "      <td>8</td>\n",
       "      <td>7</td>\n",
       "      <td>...</td>\n",
       "      <td>9.5</td>\n",
       "      <td>1</td>\n",
       "      <td>2</td>\n",
       "      <td>3</td>\n",
       "      <td>10</td>\n",
       "      <td>0</td>\n",
       "      <td>0</td>\n",
       "      <td>0</td>\n",
       "      <td>6</td>\n",
       "      <td>18</td>\n",
       "    </tr>\n",
       "    <tr>\n",
       "      <th>2</th>\n",
       "      <td>2018-11-06</td>\n",
       "      <td>Atlanta Hawks</td>\n",
       "      <td>Kevin Huerter</td>\n",
       "      <td>1</td>\n",
       "      <td>Starter</td>\n",
       "      <td>SF</td>\n",
       "      <td>32.216667</td>\n",
       "      <td>5</td>\n",
       "      <td>2</td>\n",
       "      <td>2</td>\n",
       "      <td>...</td>\n",
       "      <td>11.6</td>\n",
       "      <td>1</td>\n",
       "      <td>4</td>\n",
       "      <td>5</td>\n",
       "      <td>3</td>\n",
       "      <td>1</td>\n",
       "      <td>3</td>\n",
       "      <td>1</td>\n",
       "      <td>1</td>\n",
       "      <td>7</td>\n",
       "    </tr>\n",
       "    <tr>\n",
       "      <th>3</th>\n",
       "      <td>2018-11-06</td>\n",
       "      <td>Atlanta Hawks</td>\n",
       "      <td>Omari Spellman</td>\n",
       "      <td>6</td>\n",
       "      <td>Starter</td>\n",
       "      <td>PF</td>\n",
       "      <td>16.750000</td>\n",
       "      <td>6</td>\n",
       "      <td>1</td>\n",
       "      <td>3</td>\n",
       "      <td>...</td>\n",
       "      <td>1.5</td>\n",
       "      <td>2</td>\n",
       "      <td>2</td>\n",
       "      <td>4</td>\n",
       "      <td>1</td>\n",
       "      <td>1</td>\n",
       "      <td>0</td>\n",
       "      <td>0</td>\n",
       "      <td>0</td>\n",
       "      <td>2</td>\n",
       "    </tr>\n",
       "    <tr>\n",
       "      <th>4</th>\n",
       "      <td>2018-11-06</td>\n",
       "      <td>Atlanta Hawks</td>\n",
       "      <td>Alex Len</td>\n",
       "      <td>25</td>\n",
       "      <td>Starter</td>\n",
       "      <td>C</td>\n",
       "      <td>19.083333</td>\n",
       "      <td>11</td>\n",
       "      <td>6</td>\n",
       "      <td>3</td>\n",
       "      <td>...</td>\n",
       "      <td>3.5</td>\n",
       "      <td>0</td>\n",
       "      <td>3</td>\n",
       "      <td>3</td>\n",
       "      <td>1</td>\n",
       "      <td>1</td>\n",
       "      <td>1</td>\n",
       "      <td>0</td>\n",
       "      <td>4</td>\n",
       "      <td>12</td>\n",
       "    </tr>\n",
       "  </tbody>\n",
       "</table>\n",
       "<p>5 rows × 23 columns</p>\n",
       "</div>"
      ],
      "text/plain": [
       "         date           team            name  number   status position  \\\n",
       "0  2018-11-06  Atlanta Hawks   Kent Bazemore      24  Starter       SG   \n",
       "1  2018-11-06  Atlanta Hawks      Trae Young      11  Starter       PG   \n",
       "2  2018-11-06  Atlanta Hawks   Kevin Huerter       1  Starter       SF   \n",
       "3  2018-11-06  Atlanta Hawks  Omari Spellman       6  Starter       PF   \n",
       "4  2018-11-06  Atlanta Hawks        Alex Len      25  Starter        C   \n",
       "\n",
       "     minutes  FGA  FGM  3FGA ...    FIC  OREB  DREB  REB  AST  PF  STL  BLK  \\\n",
       "0  28.066667   12    6     7 ...    9.9     0     2    2    1   3    4    2   \n",
       "1  29.816667   19    8     7 ...    9.5     1     2    3   10   0    0    0   \n",
       "2  32.216667    5    2     2 ...   11.6     1     4    5    3   1    3    1   \n",
       "3  16.750000    6    1     3 ...    1.5     2     2    4    1   1    0    0   \n",
       "4  19.083333   11    6     3 ...    3.5     0     3    3    1   1    1    0   \n",
       "\n",
       "   TO  PTS  \n",
       "0   3   16  \n",
       "1   6   18  \n",
       "2   1    7  \n",
       "3   0    2  \n",
       "4   4   12  \n",
       "\n",
       "[5 rows x 23 columns]"
      ]
     },
     "execution_count": 11,
     "metadata": {},
     "output_type": "execute_result"
    }
   ],
   "source": [
    "df.head()"
   ]
  },
  {
   "cell_type": "code",
   "execution_count": null,
   "metadata": {
    "collapsed": true
   },
   "outputs": [],
   "source": []
  }
 ],
 "metadata": {
  "kernelspec": {
   "display_name": "Python [default]",
   "language": "python",
   "name": "python3"
  },
  "language_info": {
   "codemirror_mode": {
    "name": "ipython",
    "version": 3
   },
   "file_extension": ".py",
   "mimetype": "text/x-python",
   "name": "python",
   "nbconvert_exporter": "python",
   "pygments_lexer": "ipython3",
   "version": "3.5.2"
  }
 },
 "nbformat": 4,
 "nbformat_minor": 2
}
