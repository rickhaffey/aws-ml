{
 "cells": [
  {
   "cell_type": "markdown",
   "metadata": {},
   "source": [
    "## 3.1 Create a Jupyter Notebook and Initialize Variables"
   ]
  },
  {
   "cell_type": "code",
   "execution_count": 1,
   "metadata": {
    "scrolled": true
   },
   "outputs": [
    {
     "name": "stdout",
     "output_type": "stream",
     "text": [
      "role: arn:aws:iam::191216456264:role/service-role/AmazonSageMaker-ExecutionRole-20181030T052942\n",
      "bucket: rh-sagemaker-20181024\n"
     ]
    }
   ],
   "source": [
    "from sagemaker import get_execution_role\n",
    "\n",
    "# retrieve the name of the IAM role that the notebook is running under\n",
    "role = get_execution_role()\n",
    "bucket = 'rh-sagemaker-20181024'\n",
    "\n",
    "print(\"role: {}\".format(role))\n",
    "print(\"bucket: {}\".format(bucket))"
   ]
  },
  {
   "cell_type": "markdown",
   "metadata": {},
   "source": [
    "## 3.2 Download, Explore, and Transform the Training Data\n",
    "\n",
    "* Download MNIST dataset\n",
    "* Transform from `numpy.array` to `RecordIO` format\n",
    "    * [RecordIO Data Format](http://mxnet.incubator.apache.org/architecture/note_data_loading.html#data-format)"
   ]
  },
  {
   "cell_type": "markdown",
   "metadata": {},
   "source": [
    "### 3.2.1 Download MNIST Dataset"
   ]
  },
  {
   "cell_type": "code",
   "execution_count": 2,
   "metadata": {},
   "outputs": [],
   "source": [
    "import pickle, gzip, numpy, urllib.request, json\n",
    "\n",
    "# download the dataset to the notebook's local storage\n",
    "urllib.request.urlretrieve(\"http://deeplearning.net/data/mnist/mnist.pkl.gz\", \"mnist.pkl.gz\")\n",
    "\n",
    "# deserialize the contents into train, validation, and test sets\n",
    "with gzip.open('mnist.pkl.gz', 'rb') as f:\n",
    "    train_set, valid_set, test_set = pickle.load(f, encoding='latin1')"
   ]
  },
  {
   "cell_type": "markdown",
   "metadata": {},
   "source": [
    "### 3.2.2 Explore the Training Dataset"
   ]
  },
  {
   "cell_type": "code",
   "execution_count": 3,
   "metadata": {},
   "outputs": [
    {
     "data": {
      "image/png": "[encoded data removed]",
      "text/plain": [
       "<Figure size 144x720 with 1 Axes>"
      ]
     },
     "metadata": {},
     "output_type": "display_data"
    }
   ],
   "source": [
    "%matplotlib inline\n",
    "import matplotlib.pyplot as plt\n",
    "\n",
    "plt.rcParams[\"figure.figsize\"] = (2,10)\n",
    "\n",
    "def show_digit(img, caption='', subplot=None):\n",
    "    if subplot == None:\n",
    "        _, (subplot) = plt.subplots(1,1)\n",
    "    imgr = img.reshape((28,28))\n",
    "    subplot.axis('off')\n",
    "    subplot.imshow(imgr, cmap='gray')\n",
    "    plt.title(caption)\n",
    "\n",
    "show_digit(train_set[0][30], 'This is a {}'.format(train_set[1][30]))"
   ]
  },
  {
   "cell_type": "markdown",
   "metadata": {},
   "source": [
    "### 3.2.3 Transform the Training Dataset and Upload to S3\n",
    "\n",
    "* transform from numpy.array to RecordIO protobuf format\n",
    "* more efficient for the algorithms provided by SageMaker\n",
    "* (using high-level SageMaker Python libraries, this happens implicitly)"
   ]
  },
  {
   "cell_type": "markdown",
   "metadata": {},
   "source": [
    "## 3.3 Train a Model\n",
    "\n",
    "* Call `CreateTrainingJob`, providing\n",
    "  * training image ECR path\n",
    "  * training data S3 path\n",
    "  * resources configuration to use"
   ]
  },
  {
   "cell_type": "markdown",
   "metadata": {},
   "source": [
    "### 3.3.1 Choose the Training Algorithm"
   ]
  },
  {
   "cell_type": "markdown",
   "metadata": {},
   "source": [
    "### 3.3.2 Create a Training Job\n",
    "\n",
    "* high-level Python api\n",
    "    * create instance of training algorithm\n",
    "    * call `fit` method, passing configuration details\n",
    "    \n",
    "    \n",
    "* role: name of the IAM role under which SageMaker runs while performing training\n",
    "* output_path: S3 location for storing generated output artifacts\n",
    "* train_instance_count: # of instances to use for training\n",
    "* train_instance_type: type of instances to use for training\n",
    "* k: the number of clusters to create\n",
    "* data_location: location of training data"
   ]
  },
  {
   "cell_type": "code",
   "execution_count": 8,
   "metadata": {},
   "outputs": [],
   "source": [
    "def build_s3_uri(bucket, key):\n",
    "    return 's3://{}/{}'.format(bucket, key)\n",
    "\n",
    "def build_datetime_filename(root):\n",
    "    return '{}{}'.format(root, strftime(\"%Y-%m-%d-%H-%M-%S\", gmtime()))"
   ]
  },
  {
   "cell_type": "code",
   "execution_count": 7,
   "metadata": {
    "scrolled": true
   },
   "outputs": [
    {
     "name": "stdout",
     "output_type": "stream",
     "text": [
      "training data will be uploaded to: s3://rh-sagemaker-20181024/kmeans_highlevel_example/data\n",
      "training artifacts will be uploaded to: s3://rh-sagemaker-20181024/kmeans_highlevel_example/output\n"
     ]
    },
    {
     "name": "stderr",
     "output_type": "stream",
     "text": [
      "INFO:sagemaker:Creating training-job with name: kmeans-2018-10-31-11-04-30-033\n"
     ]
    },
    {
     "name": "stdout",
     "output_type": "stream",
     "text": [
      "2018-10-31 11:04:30 Starting - Starting the training job...\n",
      "2018-10-31 11:04:31 Starting - Launching requested ML instances.........\n",
      "2018-10-31 11:06:10 Starting - Preparing the instances for training......\n",
      "2018-10-31 11:07:27 Downloading - Downloading input data\n",
      "2018-10-31 11:07:27 Training - Training image download completed. Training in progress.\n",
      "\u001b[31mDocker entrypoint called with argument(s): train\u001b[0m\n",
      "\u001b[31m[10/31/2018 11:07:22 INFO 140077894960960] Reading default configuration from /opt/amazon/lib/python2.7/site-packages/algorithm/resources/default-input.json: {u'_tuning_objective_metric': u'', u'_num_gpus': u'auto', u'local_lloyd_num_trials': u'auto', u'_log_level': u'info', u'_kvstore': u'auto', u'local_lloyd_init_method': u'kmeans++', u'force_dense': u'true', u'epochs': u'1', u'init_method': u'random', u'local_lloyd_tol': u'0.0001', u'local_lloyd_max_iter': u'300', u'_disable_wait_to_read': u'false', u'extra_center_factor': u'auto', u'eval_metrics': u'[\"msd\"]', u'_num_kv_servers': u'1', u'mini_batch_size': u'5000', u'half_life_time_size': u'0', u'_num_slices': u'1'}\u001b[0m\n",
      "\u001b[31m[10/31/2018 11:07:22 INFO 140077894960960] Reading provided configuration from /opt/ml/input/config/hyperparameters.json: {u'feature_dim': u'784', u'k': u'10', u'force_dense': u'True'}\u001b[0m\n",
      "\u001b[31m[10/31/2018 11:07:22 INFO 140077894960960] Final configuration: {u'k': u'10', u'_tuning_objective_metric': u'', u'_num_gpus': u'auto', u'local_lloyd_num_trials': u'auto', u'_log_level': u'info', u'_kvstore': u'auto', u'local_lloyd_init_method': u'kmeans++', u'force_dense': u'True', u'epochs': u'1', u'init_method': u'random', u'feature_dim': u'784', u'local_lloyd_tol': u'0.0001', u'local_lloyd_max_iter': u'300', u'_disable_wait_to_read': u'false', u'extra_center_factor': u'auto', u'eval_metrics': u'[\"msd\"]', u'_num_kv_servers': u'1', u'mini_batch_size': u'5000', u'half_life_time_size': u'0', u'_num_slices': u'1'}\u001b[0m\n",
      "\u001b[31m[10/31/2018 11:07:22 WARNING 140077894960960] Loggers have already been setup.\u001b[0m\n",
      "\u001b[31mDocker entrypoint called with argument(s): train\u001b[0m\n",
      "\u001b[31m[10/31/2018 11:07:29 INFO 140349326600000] Reading default configuration from /opt/amazon/lib/python2.7/site-packages/algorithm/resources/default-input.json: {u'_tuning_objective_metric': u'', u'_num_gpus': u'auto', u'local_lloyd_num_trials': u'auto', u'_log_level': u'info', u'_kvstore': u'auto', u'local_lloyd_init_method': u'kmeans++', u'force_dense': u'true', u'epochs': u'1', u'init_method': u'random', u'local_lloyd_tol': u'0.0001', u'local_lloyd_max_iter': u'300', u'_disable_wait_to_read': u'false', u'extra_center_factor': u'auto', u'eval_metrics': u'[\"msd\"]', u'_num_kv_servers': u'1', u'mini_batch_size': u'5000', u'half_life_time_size': u'0', u'_num_slices': u'1'}\u001b[0m\n",
      "\u001b[31m[10/31/2018 11:07:29 INFO 140349326600000] Reading provided configuration from /opt/ml/input/config/hyperparameters.json: {u'feature_dim': u'784', u'k': u'10', u'force_dense': u'True'}\u001b[0m\n",
      "\u001b[31m[10/31/2018 11:07:29 INFO 140349326600000] Final configuration: {u'k': u'10', u'_tuning_objective_metric': u'', u'_num_gpus': u'auto', u'local_lloyd_num_trials': u'auto', u'_log_level': u'info', u'_kvstore': u'auto', u'local_lloyd_init_method': u'kmeans++', u'force_dense': u'True', u'epochs': u'1', u'init_method': u'random', u'feature_dim': u'784', u'local_lloyd_tol': u'0.0001', u'local_lloyd_max_iter': u'300', u'_disable_wait_to_read': u'false', u'extra_center_factor': u'auto', u'eval_metrics': u'[\"msd\"]', u'_num_kv_servers': u'1', u'mini_batch_size': u'5000', u'half_life_time_size': u'0', u'_num_slices': u'1'}\u001b[0m\n",
      "\u001b[31m[10/31/2018 11:07:29 WARNING 140349326600000] Loggers have already been setup.\u001b[0m\n",
      "\u001b[31m[10/31/2018 11:07:29 INFO 140349326600000] Launching parameter server for role scheduler\u001b[0m\n",
      "\u001b[31m[10/31/2018 11:07:29 INFO 140349326600000] {'ECS_CONTAINER_METADATA_URI': 'http://169.254.170.2/v3/61970764-d84b-401d-a40e-39bb6441d555', 'PROTOCOL_BUFFERS_PYTHON_IMPLEMENTATION_VERSION': '2', 'PATH': '/opt/amazon/bin:/usr/local/nvidia/bin:/usr/local/sbin:/usr/local/bin:/usr/sbin:/usr/bin:/sbin:/bin:/opt/amazon/bin:/opt/amazon/bin', 'SAGEMAKER_HTTP_PORT': '8080', 'HOME': '/root', 'PYTHONUNBUFFERED': 'TRUE', 'CANONICAL_ENVROOT': '/opt/amazon', 'LD_LIBRARY_PATH': '/usr/local/nvidia/lib64:/opt/amazon/lib', 'MXNET_KVSTORE_BIGARRAY_BOUND': '400000000', 'LANG': 'en_US.utf8', 'DMLC_INTERFACE': 'ethwe', 'SHLVL': '1', 'AWS_REGION': 'us-east-1', 'NVIDIA_VISIBLE_DEVICES': 'all', 'TRAINING_JOB_NAME': 'kmeans-2018-10-31-11-04-30-033', 'PROTOCOL_BUFFERS_PYTHON_IMPLEMENTATION': 'cpp', 'ENVROOT': '/opt/amazon', 'SAGEMAKER_DATA_PATH': '/opt/ml', 'NVIDIA_DRIVER_CAPABILITIES': 'compute,utility', 'NVIDIA_REQUIRE_CUDA': 'cuda>=9.0', 'OMP_NUM_THREADS': '18', 'HOSTNAME': 'aws', 'AWS_CONTAINER_CREDENTIALS_RELATIVE_URI': '/v2/credentials/61721d11-4280-4406-841d-5d3b6f1ce836', 'PWD': '/'}\u001b[0m\n",
      "\u001b[31m[10/31/2018 11:07:29 INFO 140349326600000] envs={'ECS_CONTAINER_METADATA_URI': 'http://169.254.170.2/v3/61970764-d84b-401d-a40e-39bb6441d555', 'PROTOCOL_BUFFERS_PYTHON_IMPLEMENTATION_VERSION': '2', 'DMLC_NUM_WORKER': '2', 'DMLC_PS_ROOT_PORT': '9000', 'PATH': '/opt/amazon/bin:/usr/local/nvidia/bin:/usr/local/sbin:/usr/local/bin:/usr/sbin:/usr/bin:/sbin:/bin:/opt/amazon/bin:/opt/amazon/bin', 'SAGEMAKER_HTTP_PORT': '8080', 'HOME': '/root', 'PYTHONUNBUFFERED': 'TRUE', 'CANONICAL_ENVROOT': '/opt/amazon', 'LD_LIBRARY_PATH': '/usr/local/nvidia/lib64:/opt/amazon/lib', 'MXNET_KVSTORE_BIGARRAY_BOUND': '400000000', 'LANG': 'en_US.utf8', 'DMLC_INTERFACE': 'ethwe', 'SHLVL': '1', 'DMLC_PS_ROOT_URI': '10.32.0.4', 'AWS_REGION': 'us-east-1', 'NVIDIA_VISIBLE_DEVICES': 'all', 'TRAINING_JOB_NAME': 'kmeans-2018-10-31-11-04-30-033', 'PROTOCOL_BUFFERS_PYTHON_IMPLEMENTATION': 'cpp', 'ENVROOT': '/opt/amazon', 'SAGEMAKER_DATA_PATH': '/opt/ml', 'NVIDIA_DRIVER_CAPABILITIES': 'compute,utility', 'NVIDIA_REQUIRE_CUDA': 'cuda>=9.0', 'OMP_NUM_THREADS': '18', 'HOSTNAME': 'aws', 'AWS_CONTAINER_CREDENTIALS_RELATIVE_URI': '/v2/credentials/61721d11-4280-4406-841d-5d3b6f1ce836', 'DMLC_ROLE': 'scheduler', 'PWD': '/', 'DMLC_NUM_SERVER': '1'}\u001b[0m\n",
      "\u001b[31m[10/31/2018 11:07:29 INFO 140349326600000] Launching parameter server for role server\u001b[0m\n",
      "\u001b[31m[10/31/2018 11:07:29 INFO 140349326600000] {'ECS_CONTAINER_METADATA_URI': 'http://169.254.170.2/v3/61970764-d84b-401d-a40e-39bb6441d555', 'PROTOCOL_BUFFERS_PYTHON_IMPLEMENTATION_VERSION': '2', 'PATH': '/opt/amazon/bin:/usr/local/nvidia/bin:/usr/local/sbin:/usr/local/bin:/usr/sbin:/usr/bin:/sbin:/bin:/opt/amazon/bin:/opt/amazon/bin', 'SAGEMAKER_HTTP_PORT': '8080', 'HOME': '/root', 'PYTHONUNBUFFERED': 'TRUE', 'CANONICAL_ENVROOT': '/opt/amazon', 'LD_LIBRARY_PATH': '/usr/local/nvidia/lib64:/opt/amazon/lib', 'MXNET_KVSTORE_BIGARRAY_BOUND': '400000000', 'LANG': 'en_US.utf8', 'DMLC_INTERFACE': 'ethwe', 'SHLVL': '1', 'AWS_REGION': 'us-east-1', 'NVIDIA_VISIBLE_DEVICES': 'all', 'TRAINING_JOB_NAME': 'kmeans-2018-10-31-11-04-30-033', 'PROTOCOL_BUFFERS_PYTHON_IMPLEMENTATION': 'cpp', 'ENVROOT': '/opt/amazon', 'SAGEMAKER_DATA_PATH': '/opt/ml', 'NVIDIA_DRIVER_CAPABILITIES': 'compute,utility', 'NVIDIA_REQUIRE_CUDA': 'cuda>=9.0', 'OMP_NUM_THREADS': '18', 'HOSTNAME': 'aws', 'AWS_CONTAINER_CREDENTIALS_RELATIVE_URI': '/v2/credentials/61721d11-4280-4406-841d-5d3b6f1ce836', 'PWD': '/'}\u001b[0m\n",
      "\u001b[31m[10/31/2018 11:07:29 INFO 140349326600000] envs={'ECS_CONTAINER_METADATA_URI': 'http://169.254.170.2/v3/61970764-d84b-401d-a40e-39bb6441d555', 'PROTOCOL_BUFFERS_PYTHON_IMPLEMENTATION_VERSION': '2', 'DMLC_NUM_WORKER': '2', 'DMLC_PS_ROOT_PORT': '9000', 'PATH': '/opt/amazon/bin:/usr/local/nvidia/bin:/usr/local/sbin:/usr/local/bin:/usr/sbin:/usr/bin:/sbin:/bin:/opt/amazon/bin:/opt/amazon/bin', 'SAGEMAKER_HTTP_PORT': '8080', 'HOME': '/root', 'PYTHONUNBUFFERED': 'TRUE', 'CANONICAL_ENVROOT': '/opt/amazon', 'LD_LIBRARY_PATH': '/usr/local/nvidia/lib64:/opt/amazon/lib', 'MXNET_KVSTORE_BIGARRAY_BOUND': '400000000', 'LANG': 'en_US.utf8', 'DMLC_INTERFACE': 'ethwe', 'SHLVL': '1', 'DMLC_PS_ROOT_URI': '10.32.0.4', 'AWS_REGION': 'us-east-1', 'NVIDIA_VISIBLE_DEVICES': 'all', 'TRAINING_JOB_NAME': 'kmeans-2018-10-31-11-04-30-033', 'PROTOCOL_BUFFERS_PYTHON_IMPLEMENTATION': 'cpp', 'ENVROOT': '/opt/amazon', 'SAGEMAKER_DATA_PATH': '/opt/ml', 'NVIDIA_DRIVER_CAPABILITIES': 'compute,utility', 'NVIDIA_REQUIRE_CUDA': 'cuda>=9.0', 'OMP_NUM_THREADS': '18', 'HOSTNAME': 'aws', 'AWS_CONTAINER_CREDENTIALS_RELATIVE_URI': '/v2/credentials/61721d11-4280-4406-841d-5d3b6f1ce836', 'DMLC_ROLE': 'server', 'PWD': '/', 'DMLC_NUM_SERVER': '1'}\u001b[0m\n",
      "\u001b[31m[10/31/2018 11:07:29 INFO 140349326600000] Environment: {'ECS_CONTAINER_METADATA_URI': 'http://169.254.170.2/v3/61970764-d84b-401d-a40e-39bb6441d555', 'PROTOCOL_BUFFERS_PYTHON_IMPLEMENTATION_VERSION': '2', 'DMLC_PS_ROOT_PORT': '9000', 'DMLC_NUM_WORKER': '2', 'SAGEMAKER_HTTP_PORT': '8080', 'PATH': '/opt/amazon/bin:/usr/local/nvidia/bin:/usr/local/sbin:/usr/local/bin:/usr/sbin:/usr/bin:/sbin:/bin:/opt/amazon/bin:/opt/amazon/bin', 'PYTHONUNBUFFERED': 'TRUE', 'CANONICAL_ENVROOT': '/opt/amazon', 'LD_LIBRARY_PATH': '/usr/local/nvidia/lib64:/opt/amazon/lib', 'MXNET_KVSTORE_BIGARRAY_BOUND': '400000000', 'LANG': 'en_US.utf8', 'DMLC_INTERFACE': 'ethwe', 'SHLVL': '1', 'DMLC_PS_ROOT_URI': '10.32.0.4', 'AWS_REGION': 'us-east-1', 'NVIDIA_VISIBLE_DEVICES': 'all', 'TRAINING_JOB_NAME': 'kmeans-2018-10-31-11-04-30-033', 'HOME': '/root', 'PROTOCOL_BUFFERS_PYTHON_IMPLEMENTATION': 'cpp', 'ENVROOT': '/opt/amazon', 'SAGEMAKER_DATA_PATH': '/opt/ml', 'NVIDIA_DRIVER_CAPABILITIES': 'compute,utility', 'NVIDIA_REQUIRE_CUDA': 'cuda>=9.0', 'OMP_NUM_THREADS': '18', 'HOSTNAME': 'aws', 'AWS_CONTAINER_CREDENTIALS_RELATIVE_URI': '/v2/credentials/61721d11-4280-4406-841d-5d3b6f1ce836', 'DMLC_ROLE': 'worker', 'PWD': '/', 'DMLC_NUM_SERVER': '1'}\u001b[0m\n",
      "\u001b[31m[10/31/2018 11:07:29 INFO 140349326600000] Using default worker.\u001b[0m\n",
      "\u001b[31m[10/31/2018 11:07:29 INFO 140349326600000] Loaded iterator creator application/x-recordio-protobuf for content type ('application/x-recordio-protobuf', '1.0')\u001b[0m\n",
      "\u001b[31m[10/31/2018 11:07:29 INFO 140349326600000] Create Store: dist_async\u001b[0m\n",
      "\u001b[32m[10/31/2018 11:07:29 INFO 140077894960960] Environment: {'ECS_CONTAINER_METADATA_URI': 'http://169.254.170.2/v3/142eac44-ab2e-46a7-aa67-44897e9eb4a6', 'PROTOCOL_BUFFERS_PYTHON_IMPLEMENTATION_VERSION': '2', 'DMLC_PS_ROOT_PORT': '9000', 'DMLC_NUM_WORKER': '2', 'SAGEMAKER_HTTP_PORT': '8080', 'PATH': '/opt/amazon/bin:/usr/local/nvidia/bin:/usr/local/sbin:/usr/local/bin:/usr/sbin:/usr/bin:/sbin:/bin:/opt/amazon/bin:/opt/amazon/bin', 'PYTHONUNBUFFERED': 'TRUE', 'CANONICAL_ENVROOT': '/opt/amazon', 'LD_LIBRARY_PATH': '/usr/local/nvidia/lib64:/opt/amazon/lib', 'MXNET_KVSTORE_BIGARRAY_BOUND': '400000000', 'LANG': 'en_US.utf8', 'DMLC_INTERFACE': 'ethwe', 'SHLVL': '1', 'DMLC_PS_ROOT_URI': '10.32.0.4', 'AWS_REGION': 'us-east-1', 'NVIDIA_VISIBLE_DEVICES': 'all', 'TRAINING_JOB_NAME': 'kmeans-2018-10-31-11-04-30-033', 'HOME': '/root', 'PROTOCOL_BUFFERS_PYTHON_IMPLEMENTATION': 'cpp', 'ENVROOT': '/opt/amazon', 'SAGEMAKER_DATA_PATH': '/opt/ml', 'NVIDIA_DRIVER_CAPABILITIES': 'compute,utility', 'NVIDIA_REQUIRE_CUDA': 'cuda>=9.0', 'OMP_NUM_THREADS': '18', 'HOSTNAME': 'aws', 'AWS_CONTAINER_CREDENTIALS_RELATIVE_URI': '/v2/credentials/28404f55-a4d8-4ad0-8601-72e3b2e0f536', 'DMLC_ROLE': 'worker', 'PWD': '/', 'DMLC_NUM_SERVER': '1'}\u001b[0m\n",
      "\u001b[32m[10/31/2018 11:07:29 INFO 140077894960960] Using default worker.\u001b[0m\n",
      "\u001b[32m[10/31/2018 11:07:29 INFO 140077894960960] Loaded iterator creator application/x-recordio-protobuf for content type ('application/x-recordio-protobuf', '1.0')\u001b[0m\n",
      "\u001b[32m[10/31/2018 11:07:29 INFO 140077894960960] Create Store: dist_async\u001b[0m\n",
      "\u001b[32m[10/31/2018 11:07:30 INFO 140077894960960] nvidia-smi took: 0.0251908302307 secs to identify 0 gpus\u001b[0m\n",
      "\u001b[32m[10/31/2018 11:07:30 INFO 140077894960960] Number of GPUs being used: 0\u001b[0m\n",
      "\u001b[32m[10/31/2018 11:07:30 INFO 140077894960960] Setting up with params: {u'k': u'10', u'_tuning_objective_metric': u'', u'_num_gpus': u'auto', u'local_lloyd_num_trials': u'auto', u'_log_level': u'info', u'_kvstore': u'auto', u'local_lloyd_init_method': u'kmeans++', u'force_dense': u'True', u'epochs': u'1', u'init_method': u'random', u'feature_dim': u'784', u'local_lloyd_tol': u'0.0001', u'local_lloyd_max_iter': u'300', u'_disable_wait_to_read': u'false', u'extra_center_factor': u'auto', u'eval_metrics': u'[\"msd\"]', u'_num_kv_servers': u'1', u'mini_batch_size': u'5000', u'half_life_time_size': u'0', u'_num_slices': u'1'}\u001b[0m\n",
      "\u001b[32m/opt/amazon/lib/python2.7/site-packages/ai_algorithms_sdk/config/config_helper.py:172: DeprecationWarning: deprecated\n",
      "  warnings.warn(\"deprecated\", DeprecationWarning)\u001b[0m\n",
      "\u001b[32m/opt/amazon/lib/python2.7/site-packages/ai_algorithms_sdk/config/config_helper.py:122: DeprecationWarning: deprecated\n",
      "  warnings.warn(\"deprecated\", DeprecationWarning)\u001b[0m\n",
      "\u001b[32m[10/31/2018 11:07:30 INFO 140077894960960] Number of GPUs being used: 0\u001b[0m\n",
      "\u001b[32m[10/31/2018 11:07:30 INFO 140077894960960] number of center slices 1\u001b[0m\n",
      "\u001b[32m#metrics {\"Metrics\": {\"Max Batches Seen Between Resets\": {\"count\": 1, \"max\": 1, \"sum\": 1.0, \"min\": 1}, \"Number of Batches Since Last Reset\": {\"count\": 1, \"max\": 1, \"sum\": 1.0, \"min\": 1}, \"Number of Records Since Last Reset\": {\"count\": 1, \"max\": 5000, \"sum\": 5000.0, \"min\": 5000}, \"Total Batches Seen\": {\"count\": 1, \"max\": 1, \"sum\": 1.0, \"min\": 1}, \"Total Records Seen\": {\"count\": 1, \"max\": 5000, \"sum\": 5000.0, \"min\": 5000}, \"Max Records Seen Between Resets\": {\"count\": 1, \"max\": 5000, \"sum\": 5000.0, \"min\": 5000}, \"Reset Count\": {\"count\": 1, \"max\": 0, \"sum\": 0.0, \"min\": 0}}, \"EndTime\": 1540984050.696094, \"Dimensions\": {\"Host\": \"algo-2\", \"Meta\": \"init_train_data_iter\", \"Operation\": \"training\", \"Algorithm\": \"AWS/KMeansWebscale\"}, \"StartTime\": 1540984050.696064}\n",
      "\u001b[0m\n",
      "\u001b[32m[2018-10-31 11:07:30.715] [tensorio] [info] data_pipeline_stats={\"name\": \"/opt/ml/input/data/train\", \"epoch\": 1, \"duration\": 61, \"num_examples\": 1}\u001b[0m\n",
      "\u001b[32m[10/31/2018 11:07:30 INFO 140077894960960] processed a total of 25000 examples\u001b[0m\n",
      "\u001b[32m[10/31/2018 11:07:30 INFO 140077894960960] #progress_metric: host=algo-2, completed 100 % of epochs\u001b[0m\n",
      "\u001b[32m#metrics {\"Metrics\": {\"Max Batches Seen Between Resets\": {\"count\": 1, \"max\": 5, \"sum\": 5.0, \"min\": 5}, \"Number of Batches Since Last Reset\": {\"count\": 1, \"max\": 5, \"sum\": 5.0, \"min\": 5}, \"Number of Records Since Last Reset\": {\"count\": 1, \"max\": 25000, \"sum\": 25000.0, \"min\": 25000}, \"Total Batches Seen\": {\"count\": 1, \"max\": 6, \"sum\": 6.0, \"min\": 6}, \"Total Records Seen\": {\"count\": 1, \"max\": 30000, \"sum\": 30000.0, \"min\": 30000}, \"Max Records Seen Between Resets\": {\"count\": 1, \"max\": 25000, \"sum\": 25000.0, \"min\": 25000}, \"Reset Count\": {\"count\": 1, \"max\": 1, \"sum\": 1.0, \"min\": 1}}, \"EndTime\": 1540984050.930549, \"Dimensions\": {\"Host\": \"algo-2\", \"Meta\": \"training_data_iter\", \"Operation\": \"training\", \"Algorithm\": \"AWS/KMeansWebscale\", \"epoch\": 0}, \"StartTime\": 1540984050.715498}\n",
      "\u001b[0m\n",
      "\u001b[32m[10/31/2018 11:07:30 INFO 140077894960960] #throughput_metric: host=algo-2, train throughput=116165.626773 records/second\u001b[0m\n",
      "\u001b[32m[10/31/2018 11:07:30 INFO 140077894960960] shrinking 100 centers into 10\u001b[0m\n",
      "\u001b[32m[10/31/2018 11:07:30 INFO 140077894960960] local kmeans attempt #0. Current mean square distance 10.806859\u001b[0m\n",
      "\u001b[32m[10/31/2018 11:07:31 INFO 140077894960960] local kmeans attempt #1. Current mean square distance 11.200789\u001b[0m\n",
      "\u001b[32m[10/31/2018 11:07:31 INFO 140077894960960] local kmeans attempt #2. Current mean square distance 10.620422\u001b[0m\n",
      "\u001b[32m[10/31/2018 11:07:31 INFO 140077894960960] local kmeans attempt #3. Current mean square distance 10.784806\u001b[0m\n",
      "\u001b[31m[10/31/2018 11:07:30 INFO 140349326600000] nvidia-smi took: 0.0251729488373 secs to identify 0 gpus\u001b[0m\n",
      "\u001b[31m[10/31/2018 11:07:30 INFO 140349326600000] Number of GPUs being used: 0\u001b[0m\n",
      "\u001b[31m[10/31/2018 11:07:30 INFO 140349326600000] Setting up with params: {u'k': u'10', u'_tuning_objective_metric': u'', u'_num_gpus': u'auto', u'local_lloyd_num_trials': u'auto', u'_log_level': u'info', u'_kvstore': u'auto', u'local_lloyd_init_method': u'kmeans++', u'force_dense': u'True', u'epochs': u'1', u'init_method': u'random', u'feature_dim': u'784', u'local_lloyd_tol': u'0.0001', u'local_lloyd_max_iter': u'300', u'_disable_wait_to_read': u'false', u'extra_center_factor': u'auto', u'eval_metrics': u'[\"msd\"]', u'_num_kv_servers': u'1', u'mini_batch_size': u'5000', u'half_life_time_size': u'0', u'_num_slices': u'1'}\u001b[0m\n",
      "\u001b[31m/opt/amazon/lib/python2.7/site-packages/ai_algorithms_sdk/config/config_helper.py:172: DeprecationWarning: deprecated\n",
      "  warnings.warn(\"deprecated\", DeprecationWarning)\u001b[0m\n",
      "\u001b[31m/opt/amazon/lib/python2.7/site-packages/ai_algorithms_sdk/config/config_helper.py:122: DeprecationWarning: deprecated\n",
      "  warnings.warn(\"deprecated\", DeprecationWarning)\u001b[0m\n",
      "\u001b[31m[10/31/2018 11:07:30 INFO 140349326600000] Number of GPUs being used: 0\u001b[0m\n",
      "\u001b[31m[10/31/2018 11:07:30 INFO 140349326600000] number of center slices 1\u001b[0m\n",
      "\u001b[31m#metrics {\"Metrics\": {\"Max Batches Seen Between Resets\": {\"count\": 1, \"max\": 1, \"sum\": 1.0, \"min\": 1}, \"Number of Batches Since Last Reset\": {\"count\": 1, \"max\": 1, \"sum\": 1.0, \"min\": 1}, \"Number of Records Since Last Reset\": {\"count\": 1, \"max\": 5000, \"sum\": 5000.0, \"min\": 5000}, \"Total Batches Seen\": {\"count\": 1, \"max\": 1, \"sum\": 1.0, \"min\": 1}, \"Total Records Seen\": {\"count\": 1, \"max\": 5000, \"sum\": 5000.0, \"min\": 5000}, \"Max Records Seen Between Resets\": {\"count\": 1, \"max\": 5000, \"sum\": 5000.0, \"min\": 5000}, \"Reset Count\": {\"count\": 1, \"max\": 0, \"sum\": 0.0, \"min\": 0}}, \"EndTime\": 1540984050.696068, \"Dimensions\": {\"Host\": \"algo-1\", \"Meta\": \"init_train_data_iter\", \"Operation\": \"training\", \"Algorithm\": \"AWS/KMeansWebscale\"}, \"StartTime\": 1540984050.696037}\n",
      "\u001b[0m\n",
      "\u001b[31m[2018-10-31 11:07:30.718] [tensorio] [info] data_pipeline_stats={\"name\": \"/opt/ml/input/data/train\", \"epoch\": 1, \"duration\": 64, \"num_examples\": 1}\u001b[0m\n",
      "\u001b[31m[10/31/2018 11:07:30 INFO 140349326600000] processed a total of 25000 examples\u001b[0m\n",
      "\u001b[31m[10/31/2018 11:07:30 INFO 140349326600000] #progress_metric: host=algo-1, completed 100 % of epochs\u001b[0m\n",
      "\u001b[31m#metrics {\"Metrics\": {\"Max Batches Seen Between Resets\": {\"count\": 1, \"max\": 5, \"sum\": 5.0, \"min\": 5}, \"Number of Batches Since Last Reset\": {\"count\": 1, \"max\": 5, \"sum\": 5.0, \"min\": 5}, \"Number of Records Since Last Reset\": {\"count\": 1, \"max\": 25000, \"sum\": 25000.0, \"min\": 25000}, \"Total Batches Seen\": {\"count\": 1, \"max\": 6, \"sum\": 6.0, \"min\": 6}, \"Total Records Seen\": {\"count\": 1, \"max\": 30000, \"sum\": 30000.0, \"min\": 30000}, \"Max Records Seen Between Resets\": {\"count\": 1, \"max\": 25000, \"sum\": 25000.0, \"min\": 25000}, \"Reset Count\": {\"count\": 1, \"max\": 1, \"sum\": 1.0, \"min\": 1}}, \"EndTime\": 1540984050.942604, \"Dimensions\": {\"Host\": \"algo-1\", \"Meta\": \"training_data_iter\", \"Operation\": \"training\", \"Algorithm\": \"AWS/KMeansWebscale\", \"epoch\": 0}, \"StartTime\": 1540984050.718902}\n",
      "\u001b[0m\n",
      "\u001b[31m[10/31/2018 11:07:30 INFO 140349326600000] #throughput_metric: host=algo-1, train throughput=111685.968423 records/second\u001b[0m\n",
      "\u001b[31m[10/31/2018 11:07:30 INFO 140349326600000] shrinking 100 centers into 10\u001b[0m\n",
      "\u001b[31m[10/31/2018 11:07:30 INFO 140349326600000] local kmeans attempt #0. Current mean square distance 10.814623\u001b[0m\n",
      "\u001b[31m[10/31/2018 11:07:31 INFO 140349326600000] local kmeans attempt #1. Current mean square distance 10.806764\u001b[0m\n",
      "\u001b[31m[10/31/2018 11:07:31 INFO 140349326600000] local kmeans attempt #2. Current mean square distance 11.901535\u001b[0m\n",
      "\u001b[31m[10/31/2018 11:07:31 INFO 140349326600000] local kmeans attempt #3. Current mean square distance 11.041165\u001b[0m\n",
      "\u001b[31m[10/31/2018 11:07:31 INFO 140349326600000] local kmeans attempt #4. Current mean square distance 10.800014\u001b[0m\n",
      "\u001b[31m[10/31/2018 11:07:31 INFO 140349326600000] local kmeans attempt #5. Current mean square distance 10.980699\u001b[0m\n",
      "\u001b[31m[10/31/2018 11:07:31 INFO 140349326600000] local kmeans attempt #6. Current mean square distance 10.989724\u001b[0m\n",
      "\u001b[31m[10/31/2018 11:07:31 INFO 140349326600000] local kmeans attempt #7. Current mean square distance 10.749119\u001b[0m\n",
      "\u001b[31m[10/31/2018 11:07:31 INFO 140349326600000] local kmeans attempt #8. Current mean square distance 10.667525\u001b[0m\n",
      "\u001b[31m[10/31/2018 11:07:31 INFO 140349326600000] local kmeans attempt #9. Current mean square distance 10.924459\u001b[0m\n",
      "\u001b[31m[10/31/2018 11:07:31 INFO 140349326600000] finished shrinking process. Mean Square Distance = 11\u001b[0m\n",
      "\u001b[31m[10/31/2018 11:07:31 INFO 140349326600000] #quality_metric: host=algo-1, train msd <loss>=10.6675252914\u001b[0m\n",
      "\u001b[31m[10/31/2018 11:07:31 INFO 140349326600000] compute all data-center distances: inner product took: 27.2924%, (0.061485 secs)\u001b[0m\n",
      "\u001b[31m[10/31/2018 11:07:31 INFO 140349326600000] batch data loading with context took: 17.9559%, (0.040452 secs)\u001b[0m\n",
      "\u001b[31m[10/31/2018 11:07:31 INFO 140349326600000] compute all data-center distances: point norm took: 16.0924%, (0.036254 secs)\u001b[0m\n",
      "\u001b[31m[10/31/2018 11:07:31 INFO 140349326600000] predict compute msd took: 12.6969%, (0.028604 secs)\u001b[0m\n",
      "\u001b[31m[10/31/2018 11:07:31 INFO 140349326600000] gradient: cluster center took: 9.5352%, (0.021481 secs)\u001b[0m\n",
      "\u001b[31m[10/31/2018 11:07:31 INFO 140349326600000] collect from kv store took: 6.8495%, (0.015431 secs)\u001b[0m\n",
      "\u001b[31m[10/31/2018 11:07:31 INFO 140349326600000] compute all data-center distances: center norm took: 4.0518%, (0.009128 secs)\u001b[0m\n",
      "\u001b[31m[10/31/2018 11:07:31 INFO 140349326600000] gradient: one_hot took: 1.6180%, (0.003645 secs)\u001b[0m\n",
      "\u001b[31m[10/31/2018 11:07:31 INFO 140349326600000] splitting centers key-value pair took: 1.6156%, (0.003640 secs)\u001b[0m\n",
      "\u001b[31m[10/31/2018 11:07:31 INFO 140349326600000] gradient: cluster size  took: 1.4536%, (0.003275 secs)\u001b[0m\n",
      "\u001b[31m[10/31/2018 11:07:31 INFO 140349326600000] update state and report convergance took: 0.7068%, (0.001592 secs)\u001b[0m\n",
      "\u001b[31m[10/31/2018 11:07:31 INFO 140349326600000] update set-up time took: 0.0755%, (0.000170 secs)\u001b[0m\n",
      "\u001b[31m[10/31/2018 11:07:31 INFO 140349326600000] predict minus dist took: 0.0563%, (0.000127 secs)\u001b[0m\n",
      "\u001b[31m[10/31/2018 11:07:31 INFO 140349326600000] TOTAL took: 0.22528386116\u001b[0m\n",
      "\u001b[31m[10/31/2018 11:07:31 INFO 140349326600000] Number of GPUs being used: 0\u001b[0m\n",
      "\u001b[31m#metrics {\"Metrics\": {\"finalize.time\": {\"count\": 1, \"max\": 273.95105361938477, \"sum\": 273.95105361938477, \"min\": 273.95105361938477}, \"initialize.time\": {\"count\": 1, \"max\": 18.76997947692871, \"sum\": 18.76997947692871, \"min\": 18.76997947692871}, \"model.serialize.time\": {\"count\": 1, \"max\": 0.18310546875, \"sum\": 0.18310546875, \"min\": 0.18310546875}, \"update.time\": {\"count\": 1, \"max\": 223.50311279296875, \"sum\": 223.50311279296875, \"min\": 223.50311279296875}, \"epochs\": {\"count\": 1, \"max\": 1, \"sum\": 1.0, \"min\": 1}, \"state.serialize.time\": {\"count\": 1, \"max\": 0.5729198455810547, \"sum\": 0.5729198455810547, \"min\": 0.5729198455810547}, \"_shrink.time\": {\"count\": 1, \"max\": 272.17888832092285, \"sum\": 272.17888832092285, \"min\": 272.17888832092285}}, \"EndTime\": 1540984051.217933, \"Dimensions\": {\"Host\": \"algo-1\", \"Operation\": \"training\", \"Algorithm\": \"AWS/KMeansWebscale\"}, \"StartTime\": 1540984050.653157}\n",
      "\u001b[0m\n",
      "\u001b[31m[10/31/2018 11:07:31 INFO 140349326600000] Test data is not provided.\u001b[0m\n",
      "\u001b[31m[2018-10-31 11:07:31.218] [tensorio] [info] data_pipeline_stats={\"name\": \"/opt/ml/input/data/train\", \"epoch\": 2, \"duration\": 498, \"num_examples\": 5}\u001b[0m\n",
      "\u001b[31m[2018-10-31 11:07:31.218] [tensorio] [info] data_pipeline_stats={\"name\": \"/opt/ml/input/data/train\", \"duration\": 562, \"num_epochs\": 2, \"num_examples\": 6}\u001b[0m\n",
      "\u001b[31m#metrics {\"Metrics\": {\"totaltime\": {\"count\": 1, \"max\": 1777.8501510620117, \"sum\": 1777.8501510620117, \"min\": 1777.8501510620117}, \"setuptime\": {\"count\": 1, \"max\": 22.668123245239258, \"sum\": 22.668123245239258, \"min\": 22.668123245239258}}, \"EndTime\": 1540984051.222718, \"Dimensions\": {\"Host\": \"algo-1\", \"Operation\": \"training\", \"Algorithm\": \"AWS/KMeansWebscale\"}, \"StartTime\": 1540984051.218009}\n",
      "\u001b[0m\n",
      "\u001b[32m[10/31/2018 11:07:31 INFO 140077894960960] local kmeans attempt #4. Current mean square distance 11.160336\u001b[0m\n",
      "\u001b[32m[10/31/2018 11:07:31 INFO 140077894960960] local kmeans attempt #5. Current mean square distance 10.996937\u001b[0m\n",
      "\u001b[32m[10/31/2018 11:07:31 INFO 140077894960960] local kmeans attempt #6. Current mean square distance 10.995543\u001b[0m\n",
      "\u001b[32m[10/31/2018 11:07:31 INFO 140077894960960] local kmeans attempt #7. Current mean square distance 10.640119\u001b[0m\n",
      "\u001b[32m[10/31/2018 11:07:31 INFO 140077894960960] local kmeans attempt #8. Current mean square distance 10.710878\u001b[0m\n",
      "\u001b[32m[10/31/2018 11:07:31 INFO 140077894960960] local kmeans attempt #9. Current mean square distance 11.363796\u001b[0m\n",
      "\u001b[32m[10/31/2018 11:07:31 INFO 140077894960960] finished shrinking process. Mean Square Distance = 11\u001b[0m\n",
      "\u001b[32m[10/31/2018 11:07:31 INFO 140077894960960] #quality_metric: host=algo-2, train msd <loss>=10.6204223633\u001b[0m\n",
      "\u001b[32m[10/31/2018 11:07:31 INFO 140077894960960] compute all data-center distances: inner product took: 26.4546%, (0.057645 secs)\u001b[0m\n",
      "\u001b[32m[10/31/2018 11:07:31 INFO 140077894960960] batch data loading with context took: 18.7796%, (0.040921 secs)\u001b[0m\n",
      "\u001b[32m[10/31/2018 11:07:31 INFO 140077894960960] compute all data-center distances: point norm took: 15.8760%, (0.034594 secs)\u001b[0m\n",
      "\u001b[32m[10/31/2018 11:07:31 INFO 140077894960960] collect from kv store took: 13.1023%, (0.028550 secs)\u001b[0m\n",
      "\u001b[32m[10/31/2018 11:07:31 INFO 140077894960960] predict compute msd took: 12.9401%, (0.028197 secs)\u001b[0m\n",
      "\u001b[32m[10/31/2018 11:07:31 INFO 140077894960960] gradient: cluster center took: 6.4091%, (0.013966 secs)\u001b[0m\n",
      "\u001b[32m[10/31/2018 11:07:31 INFO 140077894960960] splitting centers key-value pair took: 2.2262%, (0.004851 secs)\u001b[0m\n",
      "\u001b[32m[10/31/2018 11:07:31 INFO 140077894960960] gradient: one_hot took: 1.5023%, (0.003273 secs)\u001b[0m\n",
      "\u001b[32m[10/31/2018 11:07:31 INFO 140077894960960] gradient: cluster size  took: 1.3147%, (0.002865 secs)\u001b[0m\n",
      "\u001b[32m[10/31/2018 11:07:31 INFO 140077894960960] compute all data-center distances: center norm took: 0.6350%, (0.001384 secs)\u001b[0m\n",
      "\u001b[32m[10/31/2018 11:07:31 INFO 140077894960960] update state and report convergance took: 0.6085%, (0.001326 secs)\u001b[0m\n",
      "\u001b[32m[10/31/2018 11:07:31 INFO 140077894960960] update set-up time took: 0.0963%, (0.000210 secs)\u001b[0m\n",
      "\u001b[32m[10/31/2018 11:07:31 INFO 140077894960960] predict minus dist took: 0.0554%, (0.000121 secs)\u001b[0m\n",
      "\u001b[32m[10/31/2018 11:07:31 INFO 140077894960960] TOTAL took: 0.217902183533\u001b[0m\n",
      "\u001b[32m[10/31/2018 11:07:31 INFO 140077894960960] Number of GPUs being used: 0\u001b[0m\n",
      "\u001b[32m[10/31/2018 11:07:31 INFO 140077894960960] No model is serialized on a non-master node\u001b[0m\n",
      "\u001b[32m#metrics {\"Metrics\": {\"finalize.time\": {\"count\": 1, \"max\": 309.7059726715088, \"sum\": 309.7059726715088, \"min\": 309.7059726715088}, \"initialize.time\": {\"count\": 1, \"max\": 19.328832626342773, \"sum\": 19.328832626342773, \"min\": 19.328832626342773}, \"model.serialize.time\": {\"count\": 1, \"max\": 0.07796287536621094, \"sum\": 0.07796287536621094, \"min\": 0.07796287536621094}, \"update.time\": {\"count\": 1, \"max\": 214.8571014404297, \"sum\": 214.8571014404297, \"min\": 214.8571014404297}, \"epochs\": {\"count\": 1, \"max\": 1, \"sum\": 1.0, \"min\": 1}, \"state.serialize.time\": {\"count\": 1, \"max\": 0.5369186401367188, \"sum\": 0.5369186401367188, \"min\": 0.5369186401367188}, \"_shrink.time\": {\"count\": 1, \"max\": 306.24890327453613, \"sum\": 306.24890327453613, \"min\": 306.24890327453613}}, \"EndTime\": 1540984051.253867, \"Dimensions\": {\"Host\": \"algo-2\", \"Operation\": \"training\", \"Algorithm\": \"AWS/KMeansWebscale\"}, \"StartTime\": 1540984050.652824}\n",
      "\u001b[0m\n",
      "\u001b[32m[10/31/2018 11:07:31 INFO 140077894960960] Test data is not provided.\u001b[0m\n",
      "\u001b[32m[2018-10-31 11:07:31.254] [tensorio] [info] data_pipeline_stats={\"name\": \"/opt/ml/input/data/train\", \"epoch\": 2, \"duration\": 538, \"num_examples\": 5}\u001b[0m\n",
      "\u001b[32m[2018-10-31 11:07:31.254] [tensorio] [info] data_pipeline_stats={\"name\": \"/opt/ml/input/data/train\", \"duration\": 599, \"num_epochs\": 2, \"num_examples\": 6}\u001b[0m\n",
      "\u001b[32m#metrics {\"Metrics\": {\"totaltime\": {\"count\": 1, \"max\": 8578.619003295898, \"sum\": 8578.619003295898, \"min\": 8578.619003295898}, \"setuptime\": {\"count\": 1, \"max\": 6531.264066696167, \"sum\": 6531.264066696167, \"min\": 6531.264066696167}}, \"EndTime\": 1540984051.258419, \"Dimensions\": {\"Host\": \"algo-2\", \"Operation\": \"training\", \"Algorithm\": \"AWS/KMeansWebscale\"}, \"StartTime\": 1540984051.253973}\n",
      "\u001b[0m\n"
     ]
    },
    {
     "name": "stdout",
     "output_type": "stream",
     "text": [
      "\n",
      "2018-10-31 11:07:39 Uploading - Uploading generated training model\n",
      "2018-10-31 11:07:39 Completed - Training job completed\n",
      "Billable seconds: 59\n",
      "CPU times: user 8.23 s, sys: 427 ms, total: 8.65 s\n",
      "Wall time: 3min 52s\n"
     ]
    }
   ],
   "source": [
    "%%time\n",
    "\n",
    "from sagemaker import KMeans\n",
    "\n",
    "data_location = build_s3_uri(bucket, 'kmeans_highlevel_example/data')\n",
    "output_location = build_s3_uri(bucket, 'kmeans_highlevel_example/output')\n",
    "\n",
    "print('training data will be uploaded to: {}'.format(data_location))\n",
    "print('training artifacts will be uploaded to: {}'.format(output_location))\n",
    "\n",
    "kmeans = KMeans(role=role, train_instance_count=2,\n",
    "                train_instance_type='ml.c4.8xlarge',\n",
    "                output_path=output_location,\n",
    "                k=10,data_location=data_location)\n",
    "\n",
    "kmeans.fit(kmeans.record_set(train_set[0]))"
   ]
  },
  {
   "cell_type": "markdown",
   "metadata": {},
   "source": [
    "## 3.4 Deploy the Model to Amazon SageMaker\n",
    "\n",
    "2 Options\n",
    "\n",
    "* Persistent endpoint to provide one prediction at a time\n",
    "* Use batch transform to generate predictions for an entire data set"
   ]
  },
  {
   "cell_type": "markdown",
   "metadata": {},
   "source": [
    "### 3.4.1 Deploy the Model to Amazon SageMaker Hosting Services\n",
    "\n",
    "3 Steps\n",
    "\n",
    "1. Create a model in SageMaker\n",
    "1. Create an endpoint configuration\n",
    "1. Create an endpoint\n",
    "\n",
    "The high level api performs all of these via a call to the `deploy` method."
   ]
  },
  {
   "cell_type": "code",
   "execution_count": 6,
   "metadata": {},
   "outputs": [],
   "source": [
    "# ## if needed, reload the previously trained model\n",
    "# from sagemaker import KMeansModel\n",
    "# model_data = \"s3://rh-sagemaker-20181024/kmeans_highlevel_example/output/kmeans-2018-10-30-11-08-55-639/output/model.tar.gz\"\n",
    "\n",
    "# kmeans = KMeansModel(model_data=model_data, role=role)"
   ]
  },
  {
   "cell_type": "code",
   "execution_count": 9,
   "metadata": {},
   "outputs": [
    {
     "name": "stderr",
     "output_type": "stream",
     "text": [
      "INFO:sagemaker:Creating model with name: kmeans-2018-10-31-11-09-09-163\n",
      "INFO:sagemaker:Creating endpoint with name kmeans-2018-10-31-11-04-30-033\n"
     ]
    },
    {
     "name": "stdout",
     "output_type": "stream",
     "text": [
      "--------------------------------------------------------------!CPU times: user 275 ms, sys: 9.02 ms, total: 284 ms\n",
      "Wall time: 5min 14s\n"
     ]
    }
   ],
   "source": [
    "%%time\n",
    "\n",
    "## high level api\n",
    "kmeans_predictor = kmeans.deploy(initial_instance_count=1, instance_type='ml.m4.xlarge')"
   ]
  },
  {
   "cell_type": "markdown",
   "metadata": {},
   "source": [
    "### 3.4.2 Deploy the Model to Amazon SageMaker Batch Transform\n",
    "\n",
    "* via console, OR\n",
    "* high level api, OR\n",
    "* low level api"
   ]
  },
  {
   "cell_type": "code",
   "execution_count": 17,
   "metadata": {},
   "outputs": [
    {
     "name": "stderr",
     "output_type": "stream",
     "text": [
      "INFO:sagemaker:Creating transform job with name: Batch-Transform-2018-10-31-11-36-18-754\n"
     ]
    },
    {
     "name": "stdout",
     "output_type": "stream",
     "text": [
      ".........................................!\n",
      "Sample transform result: {\"closest_cluster\":0.0,\"distance_to_cluster\":6.171431064605713}\n",
      "\n"
     ]
    }
   ],
   "source": [
    "## high level api:\n",
    "\n",
    "import boto3\n",
    "import sagemaker\n",
    "import json\n",
    "\n",
    "input_key = 'kmeans_batch_example/input/valid-data.csv'\n",
    "input_location = build_s3_uri(bucket, input_key)\n",
    "output_location = build_s3_uri(bucket, 'kmeans_batch_example/output')\n",
    "model_name = 'kmeans-2018-10-31-11-09-09-163'\n",
    "\n",
    "# convert validation set numpy array to CSV and upload to S3\n",
    "numpy.savetxt('valid-data.csv', valid_set[0], delimiter=',', fmt='%g')\n",
    "s3_client = boto3.client('s3')\n",
    "s3_client.upload_file('valid-data.csv', bucket, input_key)\n",
    "\n",
    "# initialize the transformer object\n",
    "transformer = sagemaker.transformer.Transformer(\n",
    "    base_transform_job_name='Batch-Transform',\n",
    "    model_name=model_name,\n",
    "    instance_count=1,\n",
    "    instance_type='ml.c4.xlarge',\n",
    "    output_path=output_location\n",
    ")\n",
    "\n",
    "# start a transform job\n",
    "transformer.transform(input_location, content_type='text/csv', split_type='Line')\n",
    "\n",
    "# wait for the job to complete\n",
    "transformer.wait()\n",
    "\n",
    "# fetch the validation result\n",
    "s3_client.download_file(bucket, 'kmeans_batch_example/output/valid-data.csv.out', 'valid-result')\n",
    "\n",
    "with open('valid-result') as f:\n",
    "    results = f.readlines()\n",
    "    \n",
    "print(\"Sample transform result: {}\".format(results[0]))"
   ]
  },
  {
   "cell_type": "markdown",
   "metadata": {},
   "source": [
    "## 3.5 Validate the Model"
   ]
  },
  {
   "cell_type": "code",
   "execution_count": 13,
   "metadata": {},
   "outputs": [
    {
     "name": "stdout",
     "output_type": "stream",
     "text": [
      "[label {\n",
      "  key: \"closest_cluster\"\n",
      "  value {\n",
      "    float32_tensor {\n",
      "      values: 3.0\n",
      "    }\n",
      "  }\n",
      "}\n",
      "label {\n",
      "  key: \"distance_to_cluster\"\n",
      "  value {\n",
      "    float32_tensor {\n",
      "      values: 5.467881679534912\n",
      "    }\n",
      "  }\n",
      "}\n",
      "]\n"
     ]
    }
   ],
   "source": [
    "# get a single prediction result\n",
    "result = kmeans_predictor.predict(valid_set[0][30:31])\n",
    "print(result)"
   ]
  },
  {
   "cell_type": "code",
   "execution_count": 12,
   "metadata": {
    "scrolled": false
   },
   "outputs": [
    {
     "name": "stdout",
     "output_type": "stream",
     "text": [
      "\n",
      "\n",
      "\n",
      "Cluster 0:\n"
     ]
    },
    {
     "data": {
      "image/png": "[encoded data removed]",
      "text/plain": [
       "<Figure size 360x288 with 20 Axes>"
      ]
     },
     "metadata": {},
     "output_type": "display_data"
    },
    {
     "name": "stdout",
     "output_type": "stream",
     "text": [
      "\n",
      "\n",
      "\n",
      "Cluster 1:\n"
     ]
    },
    {
     "data": {
      "image/png": "[encoded data removed]",
      "text/plain": [
       "<Figure size 360x144 with 10 Axes>"
      ]
     },
     "metadata": {},
     "output_type": "display_data"
    },
    {
     "name": "stdout",
     "output_type": "stream",
     "text": [
      "\n",
      "\n",
      "\n",
      "Cluster 2:\n"
     ]
    },
    {
     "data": {
      "image/png": "[encoded data removed]",
      "text/plain": [
       "<Figure size 360x144 with 10 Axes>"
      ]
     },
     "metadata": {},
     "output_type": "display_data"
    },
    {
     "name": "stdout",
     "output_type": "stream",
     "text": [
      "\n",
      "\n",
      "\n",
      "Cluster 3:\n"
     ]
    },
    {
     "data": {
      "image/png": "[encoded data removed]",
      "text/plain": [
       "<Figure size 360x360 with 25 Axes>"
      ]
     },
     "metadata": {},
     "output_type": "display_data"
    },
    {
     "name": "stdout",
     "output_type": "stream",
     "text": [
      "\n",
      "\n",
      "\n",
      "Cluster 4:\n"
     ]
    },
    {
     "data": {
      "image/png": "[encoded data removed]",
      "text/plain": [
       "<Figure size 360x72 with 5 Axes>"
      ]
     },
     "metadata": {},
     "output_type": "display_data"
    },
    {
     "name": "stdout",
     "output_type": "stream",
     "text": [
      "\n",
      "\n",
      "\n",
      "Cluster 5:\n"
     ]
    },
    {
     "data": {
      "image/png": "[encoded data removed]",
      "text/plain": [
       "<Figure size 360x216 with 15 Axes>"
      ]
     },
     "metadata": {},
     "output_type": "display_data"
    },
    {
     "name": "stdout",
     "output_type": "stream",
     "text": [
      "\n",
      "\n",
      "\n",
      "Cluster 6:\n"
     ]
    },
    {
     "data": {
      "image/png": "[encoded data removed]",
      "text/plain": [
       "<Figure size 360x144 with 10 Axes>"
      ]
     },
     "metadata": {},
     "output_type": "display_data"
    },
    {
     "name": "stdout",
     "output_type": "stream",
     "text": [
      "\n",
      "\n",
      "\n",
      "Cluster 7:\n"
     ]
    },
    {
     "data": {
      "image/png": "[encoded data removed]",
      "text/plain": [
       "<Figure size 360x144 with 10 Axes>"
      ]
     },
     "metadata": {},
     "output_type": "display_data"
    },
    {
     "name": "stdout",
     "output_type": "stream",
     "text": [
      "\n",
      "\n",
      "\n",
      "Cluster 8:\n"
     ]
    },
    {
     "data": {
      "image/png": "[encoded data removed]",
      "text/plain": [
       "<Figure size 360x72 with 5 Axes>"
      ]
     },
     "metadata": {},
     "output_type": "display_data"
    },
    {
     "name": "stdout",
     "output_type": "stream",
     "text": [
      "\n",
      "\n",
      "\n",
      "Cluster 9:\n"
     ]
    },
    {
     "data": {
      "image/png": "[encoded data removed]",
      "text/plain": [
       "<Figure size 360x72 with 5 Axes>"
      ]
     },
     "metadata": {},
     "output_type": "display_data"
    },
    {
     "name": "stdout",
     "output_type": "stream",
     "text": [
      "CPU times: user 3.8 s, sys: 1.59 s, total: 5.38 s\n",
      "Wall time: 3.44 s\n"
     ]
    }
   ],
   "source": [
    "%%time \n",
    "# do the same for the first 100 images\n",
    "\n",
    "result = kmeans_predictor.predict(valid_set[0][0:100])\n",
    "clusters = [r.label['closest_cluster'].float32_tensor.values[0] for r in result]\n",
    "\n",
    "for cluster in range(10):\n",
    "    print('\\n\\n\\nCluster {}:'.format(int(cluster)))\n",
    "    digits = [ img for l, img in zip(clusters, valid_set[0]) if int(l) == cluster ]\n",
    "    height = ((len(digits)-1)//5) + 1\n",
    "    width = 5\n",
    "    plt.rcParams[\"figure.figsize\"] = (width,height)\n",
    "    _, subplots = plt.subplots(height, width)\n",
    "    subplots = numpy.ndarray.flatten(subplots)\n",
    "    for subplot, image in zip(subplots, digits):\n",
    "        show_digit(image, subplot=subplot)\n",
    "    for subplot in subplots[len(digits):]:\n",
    "        subplot.axis('off')\n",
    "    plt.show()"
   ]
  },
  {
   "cell_type": "code",
   "execution_count": 18,
   "metadata": {},
   "outputs": [
    {
     "name": "stderr",
     "output_type": "stream",
     "text": [
      "INFO:sagemaker:Deleting endpoint with name: kmeans-2018-10-31-11-04-30-033\n"
     ]
    }
   ],
   "source": [
    "# cleanup\n",
    "kmeans_predictor.delete_endpoint()"
   ]
  },
  {
   "cell_type": "markdown",
   "metadata": {},
   "source": [
    "## Bare Minimum Steps"
   ]
  },
  {
   "cell_type": "code",
   "execution_count": null,
   "metadata": {},
   "outputs": [],
   "source": [
    "from sagemaker import get_execution_role\n",
    "from sagemaker import KMeans\n",
    "\n",
    "train_set, valid_set = load_data()  # load data form _somewhere_\n",
    "base_path = 's3://rh-sagemaker-20181024/kmeans_highlevel_example',\n",
    "\n",
    "# train the model\n",
    "kmeans = KMeans(role=get_execution_role(), \n",
    "                data_location=base_path + '/data',\n",
    "                output_path=base_path + '/output',\n",
    "                train_instance_count=2,\n",
    "                train_instance_type='ml.c4.8xlarge',\n",
    "                k=10)\n",
    "\n",
    "kmeans.fit(kmeans.record_set(train_set[0]))\n",
    "\n",
    "# deploy the model\n",
    "kmeans_predictor = kmeans.deploy(initial_instance_count=1, instance_type='ml.m4.xlarge')\n",
    "\n",
    "# get a single prediction result\n",
    "result = kmeans_predictor.predict(valid_set[0][30:31])\n",
    "print(result)\n",
    "\n",
    "# cleanup\n",
    "kmeans_predictor.delete_endpoint()"
   ]
  }
 ],
 "metadata": {
  "kernelspec": {
   "display_name": "conda_python3",
   "language": "python",
   "name": "conda_python3"
  },
  "language_info": {
   "codemirror_mode": {
    "name": "ipython",
    "version": 3
   },
   "file_extension": ".py",
   "mimetype": "text/x-python",
   "name": "python",
   "nbconvert_exporter": "python",
   "pygments_lexer": "ipython3",
   "version": "3.6.5"
  }
 },
 "nbformat": 4,
 "nbformat_minor": 2
}
